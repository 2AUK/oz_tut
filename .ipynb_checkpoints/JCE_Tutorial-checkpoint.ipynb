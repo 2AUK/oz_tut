{
 "cells": [
  {
   "cell_type": "markdown",
   "id": "60280913",
   "metadata": {},
   "source": [
    "# Simple Implementation of the Ornstein-Zernike equation for Atomic liquids\n",
    "\n",
    "Herein is an implementation in Python for the OZ equation, with parameters defined for a simple argon liquid."
   ]
  },
  {
   "cell_type": "markdown",
   "id": "ecedda7e",
   "metadata": {},
   "source": [
    "Firstly, the required packages are imported:"
   ]
  },
  {
   "cell_type": "code",
   "execution_count": 1,
   "id": "e5216097",
   "metadata": {},
   "outputs": [],
   "source": [
    "import numpy as np\n",
    "from scipy.fftpack import dst, idst"
   ]
  },
  {
   "cell_type": "markdown",
   "id": "0742f6bc",
   "metadata": {},
   "source": [
    "We first define constants and parameters:"
   ]
  },
  {
   "cell_type": "code",
   "execution_count": 2,
   "id": "730378e7",
   "metadata": {},
   "outputs": [],
   "source": [
    "k = 8.314462618E-3 # kJ/mol/K\n",
    "T = 85 # K"
   ]
  },
  {
   "cell_type": "markdown",
   "id": "de9738cb",
   "metadata": {},
   "source": [
    "and the grid we will be sampling over:"
   ]
  }
 ],
 "metadata": {
  "kernelspec": {
   "display_name": "Python 3 (ipykernel)",
   "language": "python",
   "name": "python3"
  },
  "language_info": {
   "codemirror_mode": {
    "name": "ipython",
    "version": 3
   },
   "file_extension": ".py",
   "mimetype": "text/x-python",
   "name": "python",
   "nbconvert_exporter": "python",
   "pygments_lexer": "ipython3",
   "version": "3.9.13"
  }
 },
 "nbformat": 4,
 "nbformat_minor": 5
}
