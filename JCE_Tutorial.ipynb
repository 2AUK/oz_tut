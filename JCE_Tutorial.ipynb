{
 "cells": [
  {
   "cell_type": "markdown",
   "id": "d41416a7",
   "metadata": {},
   "source": [
    "# Simple Implementation of the Ornstein-Zernike equation for Atomic liquids\n",
    "\n",
    "Herein is an implementation in Python for the OZ equation, with parameters defined for a simple argon liquid."
   ]
  },
  {
   "cell_type": "markdown",
   "id": "48bcdb88",
   "metadata": {},
   "source": [
    "Firstly, the required packages are imported:"
   ]
  },
  {
   "cell_type": "code",
   "execution_count": 3,
   "id": "83e15d9e",
   "metadata": {},
   "outputs": [],
   "source": [
    "import numpy as np\n",
    "from scipy.fftpack import dst, idst"
   ]
  },
  {
   "cell_type": "markdown",
   "id": "a5eeb2e0",
   "metadata": {},
   "source": [
    "We first define constants and parameters:"
   ]
  },
  {
   "cell_type": "code",
   "execution_count": 4,
   "id": "625e90a3",
   "metadata": {},
   "outputs": [],
   "source": [
    "k = 8.314462618E-3 # Boltzmann constant in kJ/mol/K\n",
    "T = 85 # System temperature in K"
   ]
  },
  {
   "cell_type": "markdown",
   "id": "b470481e",
   "metadata": {},
   "source": [
    "and the grid we will be sampling over:"
   ]
  },
  {
   "cell_type": "code",
   "execution_count": null,
   "id": "97d72f1f",
   "metadata": {
    "scrolled": false
   },
   "outputs": [],
   "source": []
  }
 ],
 "metadata": {
  "kernelspec": {
   "display_name": "Python 3 (ipykernel)",
   "language": "python",
   "name": "python3"
  },
  "language_info": {
   "codemirror_mode": {
    "name": "ipython",
    "version": 3
   },
   "file_extension": ".py",
   "mimetype": "text/x-python",
   "name": "python",
   "nbconvert_exporter": "python",
   "pygments_lexer": "ipython3",
   "version": "3.9.13"
  }
 },
 "nbformat": 4,
 "nbformat_minor": 5
}
